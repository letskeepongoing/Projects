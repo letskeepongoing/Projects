{
 "cells": [
  {
   "cell_type": "markdown",
   "metadata": {},
   "source": [
    "## Areial Robot/Car Model  \n",
    "\n",
    "### Joseph Leung"
   ]
  },
  {
   "cell_type": "markdown",
   "metadata": {},
   "source": [
    "<p>A nonholonomic WMR without wheel slips- ideal model- Unicycle with $r$, the radius, being one <p>\n",
    "    \n",
    "Our equations of motion are:<p>\n",
    "$$\n",
    "\\begin{bmatrix}\n",
    "\\dot{q}\\\\\n",
    "\\end{bmatrix}=\n",
    "\\begin{bmatrix}\n",
    "\\dot{x}\\\\\n",
    "\\dot{y}\\\\\n",
    "\\dot{\\theta}\\\\\n",
    "\\end{bmatrix} = \n",
    "\\begin{bmatrix}\n",
    "rcos(\\theta) & 0\\\\\n",
    "rsin(\\theta) & 0\\\\\n",
    "0 & 1\\\\\n",
    "\\end{bmatrix}\n",
    "\\begin{bmatrix}\n",
    "V\\\\\n",
    "\\omega\\\\\n",
    "\\end{bmatrix}$$\n",
    "    \n",
    "which simplifies to: <p>\n",
    "    $$\n",
    "\\begin{bmatrix}\n",
    "\\dot{x}\\\\\n",
    "\\dot{y}\\\\\n",
    "\\dot{\\theta}\\\\\n",
    "\\end{bmatrix} = \n",
    "\\begin{bmatrix}\n",
    "Vcos(\\theta)\\\\\n",
    "Vsin(\\theta)\\\\\n",
    "\\omega \\\\\n",
    "\\end{bmatrix} $$\n",
    "\n",
    "    \n",
    "    \n",
    "with  $x$ ,  $y$,  and  $\\theta$  being the position and heading of the robot, and  V  and $\\omega$ being the control inputs.\n",
    "    \n",
    "where $\\dot{x}$ is the $V_x$ velocity in the x direction, $\\dot{y}$ is the $V_y$ velocity in the y direction, and $\\dot{\\theta}$ is the rate the heading of the robot changes. \n",
    "\n",
    "We start by initializing the properties of the mobile robot:\n",
    "\n",
    "where M is the mass matrix, C is the matrix representing centrifugal and coriolis forces, g is gravity, K0 is for the potential energy, K2 is for the kinetic energy, and vel is the fixed velocity."
   ]
  },
  {
   "cell_type": "code",
   "execution_count": 1,
   "metadata": {},
   "outputs": [
    {
     "name": "stdout",
     "output_type": "stream",
     "text": [
      "\n"
     ]
    }
   ],
   "source": [
    "clc\n",
    "close all\n",
    "clear all\n",
    "\n",
    "M=[80.8172 2.3194;\n",
    "    2.3194 .2978];\n",
    "C=[0 33.8664;\n",
    "    -.8504 1.6854];\n",
    "K0=[-80.9500 -2.5995;\n",
    "    -2.5995 -.8033];\n",
    "K2=[0 76.5973;\n",
    "    0 2.6543];\n",
    "g=9.81;\n",
    "vel=5; \n",
    "Id=[1 0; 0 1];\n",
    "zer=zeros(2);   "
   ]
  },
  {
   "cell_type": "markdown",
   "metadata": {},
   "source": [
    "We derive our A and B from a general equation:<p>\n",
    "$M(q)\\ddot{q} + C(q,\\dot{q}) + G(q) = \\tau $<p>\n",
    "Then we move everything to get the acceleration relation for joint angles:<p>\n",
    "$\\ddot{q} = M(q)^{-1}ff(q,\\dot{q},\\tau)$ <p>\n",
    "    where $ff = \\tau - C(q,\\dot{q}) - G(q)$<p>\n",
    "The expression can be linearized about a desired trajectory: <p>\n",
    "$\\ddot{\\delta q} = \\ddot{q} - \\ddot{q}_d \\approx \\dfrac{\\delta M(q)^{-1}ff} {\\delta q} \\Bigr\\rvert_{q_d,\\dot{q_d},\\tau} \\delta q + M(q_d)^{-1}\\dfrac{\\delta ff}{\\delta \\dot{q}}\\Bigr\\rvert_{q_d,\\dot{q_d},\\tau}\\delta \\dot{q} + M(q_d)^{-1}\\dfrac{\\delta ff}{\\delta \\tau}\\Bigr\\rvert_{q_d,\\dot{q_d},\\tau}\\delta \\tau$\n",
    " \n",
    "$\\ddot{\\delta q} = \\left(\\dfrac{\\delta M(q)^{-1}ff} {\\delta q} \\Bigr\\rvert_{q_d,\\dot{q_d},\\tau} \\circ ff \\right) \\delta q + M(q_d)^{-1} \\dfrac{\\delta ff} {\\delta q} \\Bigr\\rvert_{q_d,\\dot{q_d},\\tau} + M(q_d)^{-1}\\dfrac{\\delta ff}{\\delta \\dot{q}}\\Bigr\\rvert_{q_d,\\dot{q_d},\\tau}\\delta \\dot{q} + M(q_d)^{-1}\\dfrac{\\delta ff}{\\delta \\tau}\\Bigr\\rvert_{q_d,\\dot{q_d},\\tau}\\delta \\tau$\n",
    "\n",
    "The derivative of the inverse of $M(q)$ is equal to: <p>\n",
    "$\\dfrac{\\delta M(q)^{-1}} {\\delta q} = -M(q)^{-1}\\dfrac{\\delta M(q)} {\\delta q} M(q)^{-1}$\n",
    "    \n",
    "We can then tranform the simplifed linear system with: <p>\n",
    "$\\dot{\\delta q_1} = \\delta q_2$\n",
    "    \n",
    "$\\dot{\\delta q_2} \\approx \\dfrac{\\delta M(q)^{-1}ff} {\\delta q} \\Bigr\\rvert_{q_d,\\dot{q_d},\\tau} \\delta q_1 + M(q_d)^{-1}\\dfrac{\\delta ff}{\\delta \\dot{q}}\\Bigr\\rvert_{q_d,\\dot{q_d},\\tau} \\delta q_2 + M(q_d)^{-1}\\dfrac{\\delta ff}{\\delta \\tau}\\Bigr\\rvert_{q_d,\\dot{q_d},\\tau}\\delta \\tau$\n",
    "\n",
    "$\\dfrac{d}{dt}\\begin{bmatrix} \\delta q_1 \\\\ \\delta q_2 \\end{bmatrix} = \\begin{bmatrix} 0 &  I \\\\ \\dfrac{\\delta M(q)^{-1}ff} {\\delta q} \\Bigr\\rvert_{q_d,\\dot{q_d},\\tau} & M(q_d)^{-1}\\dfrac{\\delta ff}{\\delta \\dot{q}}\\Bigr\\rvert_{q_d,\\dot{q_d},\\tau}  \\end{bmatrix}\\begin{bmatrix} \\delta q_1 \\\\ \\delta q_2 \\end{bmatrix} + \\begin{bmatrix} 0 \\\\ M(q_d)^{-1}\\dfrac{\\delta ff}{\\delta \\tau}\\Bigr\\rvert_{q_d,\\dot{q_d},\\tau} \\end{bmatrix} \\tau$\n",
    "\n",
    "The equations above will be our linear approximation of the system dynamics"
   ]
  },
  {
   "cell_type": "code",
   "execution_count": 4,
   "metadata": {},
   "outputs": [
    {
     "name": "stdout",
     "output_type": "stream",
     "text": [
      "\n"
     ]
    }
   ],
   "source": [
    "Min=inv(M);\n",
    "A=[-vel*Min*C, -Min.*(g*K0+vel^2*K2) ; %I just flipped the matrix \n",
    "    Id , zer];\n",
    "B=[Min;zer];\n",
    "C=[zer,Id];\n",
    "D=[zer];\n",
    "M_A = ctrb(A,B);\n",
    "Rank=rank(M_A); %full rank means controllable \n",
    "[v,d]=eig(A);\n",
    "Ob=obsv(A,C);\n",
    "RankO=rank(Ob); %full rank means observable"
   ]
  },
  {
   "cell_type": "markdown",
   "metadata": {},
   "source": [
    "Now we will created a path and match it with a given velocity to give us time it should take to get to the end. "
   ]
  },
  {
   "cell_type": "code",
   "execution_count": 5,
   "metadata": {},
   "outputs": [
    {
     "name": "stdout",
     "output_type": "stream",
     "text": [
      "\n"
     ]
    }
   ],
   "source": [
    "%path \n",
    "x=-1:.05:1;\n",
    "y=.4*((1+exp(12*(x))).^-1); \n",
    "y=fliplr(y);\n",
    "theta(1)=0;\n",
    "x=50*x;\n",
    "x=x+50;\n",
    "y=30*y;\n",
    "\n",
    "path=[x',y'];\n",
    "[t, x_des, y_des,dt] = pointToTrajectory(path,0,vel);\n",
    "for f= 2: length(x_des)\n",
    "theta(f)=tan((y_des(f)-y_des(f-1))/(x_des(f)-x_des(f-1)));\n",
    "end\n"
   ]
  },
  {
   "cell_type": "markdown",
   "metadata": {},
   "source": [
    "Here we design a LQR controller for the WMR by picking values of Q and R. When picking values of Q and R if the trajectory matters more we want the norm(R) >> norm(Q). Then I am initializing the states of the position and heading angle for the actual and estimated states."
   ]
  },
  {
   "cell_type": "code",
   "execution_count": 7,
   "metadata": {},
   "outputs": [
    {
     "name": "stdout",
     "output_type": "stream",
     "text": [
      "\n"
     ]
    }
   ],
   "source": [
    "Q = .01*eye(4);\n",
    "R = 2^-2*eye(2); %i wanna follow trajectory \n",
    "%Kvalue = LQR_k(A,B,Q,R);\n",
    "\n",
    "X_0 = [0;0;0];\n",
    "X_hat_0 = X_0/2;\n",
    "\n",
    "Ch = [1 0 0;\n",
    "    0 1 0];\n",
    "P_pl = eye(3);\n",
    "X(:,1)= X_0;\n",
    "Y(:,1) = Ch*X(:,1);\n",
    "t(1) = 0;\n",
    "X_hat(:,1)= X_hat_0;\n",
    "QQ = .01*eye(2);\n",
    "tt(1)=0;\n"
   ]
  },
  {
   "cell_type": "markdown",
   "metadata": {},
   "source": [
    "Here we are going to have our WMR try to follow the path we created. <p>\n",
    "First we find X(i+1) for both the estimated states and actual states using the equations of motion given in the beginning and find y from our obeserver.<p>\n",
    "Then we solve for P with the Riccati equation. \n",
    "Lastly solve for K to minimize the error from our estimated stated and actual states. "
   ]
  },
  {
   "cell_type": "code",
   "execution_count": 8,
   "metadata": {},
   "outputs": [
    {
     "name": "stdout",
     "output_type": "stream",
     "text": [
      "\n"
     ]
    }
   ],
   "source": [
    "for i = 1:length(t)\n",
    "    u = [vel;theta(i)]; \n",
    "%the real thing \n",
    "X(:,i+1)= X(:,i) + dt*[u(1)*abs(cos(X(3,i)));\n",
    "        u(1)*sin(X(3,i));\n",
    "        u(2)];\n",
    "\n",
    "    tt(i+1) = tt(i)+dt;\n",
    "    Y(:,i+1) = Ch*X(:,i+1) + sqrt(R)*randn(size(Ch,1),1); \n",
    "    \n",
    "dFdx = [0 0 -vel*sin(X_hat(3,i)); 0 0 vel*cos(X_hat(3,i)); 0 0 0 ];\n",
    "    dFdx_d = eye(3) + dt*dFdx;\n",
    "    \n",
    "    F = [dt*cos(X_hat(3,i)) 0;\n",
    "    dt*sin(X_hat(3,i)) 0;\n",
    "    0 dt];\n",
    "    \n",
    "    P_mi = dFdx_d*P_pl*dFdx_d' + F*QQ*F';\n",
    "       \n",
    "    X_hat(:,i+1) = X_hat(:,i) + dt*[u(1)*cos(X_hat(3,i));\n",
    "            u(1)*sin(X_hat(3,i));\n",
    "          u(2);];\n",
    "    Y_hat(:,i+1) = Ch*X_hat(:,i+1);\n",
    "    % Update based on measurement\n",
    "    e_Y  = Y(:,i+1) - Y_hat(:,i+1);\n",
    "    S = Ch*P_mi*Ch'+R;\n",
    "    K = P_mi*Ch'*inv(S);\n",
    "    P_pl = (eye(3) - K*Ch)*P_mi;\n",
    "    X_hat(:,i+1)=X_hat(:,i+1) + K*e_Y;\n",
    "end\n",
    "\n",
    "X_hat(3,1) = X_hat(3,end);\n",
    "P_pl = P_mi;"
   ]
  },
  {
   "cell_type": "markdown",
   "metadata": {},
   "source": [
    "We can see from our results we were able to have our WMR follow the path we created following a smooth path though it was not perfect. If I were to add more things to the model to make it more exact like traction to the wheels and control of two wheels I would be able to follow the path better. "
   ]
  },
  {
   "cell_type": "code",
   "execution_count": 9,
   "metadata": {},
   "outputs": [
    {
     "name": "stdout",
     "output_type": "stream",
     "text": [
      "\n"
     ]
    },
    {
     "data": {
      "image/png": "[encoded data removed]",
      "text/plain": [
       "<IPython.core.display.Image object>"
      ]
     },
     "metadata": {},
     "output_type": "display_data"
    }
   ],
   "source": [
    "figure;\n",
    "subplot(2,1,1)\n",
    "plot(tt,X(1,:),tt,X_hat(1,:),'--')\n",
    "legend('true','estimate')\n",
    "%axis([0 2.5 0 40])\n",
    "xlabel('time')\n",
    "ylabel('X')\n",
    "axis([-10 30 -2 120])\n",
    "subplot(2,1,2)\n",
    "plot(tt,X(2,:),tt,X_hat(2,:),'--')\n",
    "legend('true','estimate')\n",
    "xlabel('time')\n",
    "ylabel('Y')\n",
    "axis([-10 35 -1 35])"
   ]
  },
  {
   "cell_type": "code",
   "execution_count": 10,
   "metadata": {},
   "outputs": [
    {
     "name": "stdout",
     "output_type": "stream",
     "text": [
      "\n"
     ]
    },
    {
     "data": {
      "image/png": "[encoded data removed]",
      "text/plain": [
       "<IPython.core.display.Image object>"
      ]
     },
     "metadata": {},
     "output_type": "display_data"
    }
   ],
   "source": [
    "figure;\n",
    "plot(tt,X(3,:),tt,X_hat(3,:),'--') %X is the actual while X_hat is the measurement based on dynamics\n",
    "axis([-10 30 -1 4])\n",
    "xlabel('time')\n",
    "ylabel('Theta')\n",
    "%axis([0 2.5 0 2])"
   ]
  }
 ],
 "metadata": {
  "kernelspec": {
   "display_name": "Matlab",
   "language": "matlab",
   "name": "matlab"
  },
  "language_info": {
   "codemirror_mode": "octave",
   "file_extension": ".m",
   "help_links": [
    {
     "text": "MetaKernel Magics",
     "url": "https://metakernel.readthedocs.io/en/latest/source/README.html"
    }
   ],
   "mimetype": "text/x-octave",
   "name": "matlab",
   "version": "0.16.11"
  }
 },
 "nbformat": 4,
 "nbformat_minor": 2
}

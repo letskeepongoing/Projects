{
 "cells": [
  {
   "cell_type": "markdown",
   "metadata": {},
   "source": [
    "## Areial Robot/Car Model  \n",
    "\n",
    "### Joseph Leung"
   ]
  },
  {
   "cell_type": "markdown",
   "metadata": {},
   "source": [
    "<p>A nonholonomic WMR without wheel slips— ideal model- Unicycle with radius being one <p>\n",
    "    \n",
    "Our states will be controlled by:<p>\n",
    "$$\n",
    "\\begin{bmatrix}\n",
    "\\dot{q}\\\\\n",
    "\\end{bmatrix}=\n",
    "\\begin{bmatrix}\n",
    "\\dot{x}\\\\\n",
    "\\dot{y}\\\\\n",
    "\\dot{\\theta}\\\\\n",
    "\\end{bmatrix} = \n",
    "\\begin{bmatrix}\n",
    "rcos(\\theta) & 0\\\\\n",
    "rsin(\\theta) & 0\\\\\n",
    "0 & 1\\\\\n",
    "\\end{bmatrix}\n",
    "\\begin{bmatrix}\n",
    "v\\\\\n",
    "\\omega\\\\\n",
    "\\end{bmatrix}$$\n",
    "    \n",
    "where x is the $V_x$ \n",
    "    "
   ]
  },
  {
   "cell_type": "code",
   "execution_count": 1,
   "metadata": {},
   "outputs": [
    {
     "name": "stdout",
     "output_type": "stream",
     "text": [
      "\n"
     ]
    }
   ],
   "source": [
    "clc\n",
    "close all\n",
    "clear all"
   ]
  },
  {
   "cell_type": "code",
   "execution_count": 19,
   "metadata": {},
   "outputs": [
    {
     "name": "stdout",
     "output_type": "stream",
     "text": [
      "\n"
     ]
    }
   ],
   "source": [
    "M=[80.8172 2.3194;\n",
    "    2.3194 .2978];\n",
    "C=[0 33.8664;\n",
    "    -.8504 1.6854];\n",
    "K0=[-80.9500 -2.5995;\n",
    "    -2.5995 -.8033];\n",
    "K2=[0 76.5973;\n",
    "    0 2.6543];\n",
    "g=9.81;\n",
    "lambda= pi/10; %pi/2-head nagle %yea this is fixed\n",
    "%r for rear \n",
    "%b for rear frame\n",
    "%h for front frame\n",
    "%f for front wheel \n",
    "%t for total system\n",
    "%a for front assembly\n",
    "vel=5; %how do i figure i stop the velocity \n",
    "tra=.08;\n",
    "wheelb=1.02;\n",
    "Id=[1 0; 0 1];\n",
    "zer=zeros(2);\n",
    "Min=inv(M);\n",
    "z=[0;0];\n",
    "oz=[0;1];\n",
    "A=[-vel*Min*C, -Min.*(g*K0+vel^2*K2) ;\n",
    "    Id , zer];\n",
    "    %0, tra*cos(lambda)/wheelb,0, vel*cos(lambda)/wheelb, 0];\n",
    "%technically I care mostly about the first one THE TOTAL \n",
    "B=[Min;zer];\n",
    "C=[zer,Id];\n",
    "D=[zer];\n",
    "M_A = ctrb(A,B);\n",
    "Rank=rank(M_A); \n",
    "[v,d]=eig(A);\n",
    "Ob=obsv(A,C);\n",
    "RankO=rank(Ob);\n",
    "\n",
    "\n",
    "   "
   ]
  },
  {
   "cell_type": "code",
   "execution_count": 20,
   "metadata": {},
   "outputs": [
    {
     "name": "stdout",
     "output_type": "stream",
     "text": [
      "\n"
     ]
    }
   ],
   "source": [
    "%path \n",
    "x=-1:.05:1;\n",
    "y=.4*((1+exp(12*(x))).^-1); %shifted to the right 2 and condensed by 3\n",
    "y=fliplr(y);\n",
    "theta(1)=0;\n",
    "x=50*x;\n",
    "x=x+50;\n",
    "y=30*y;\n",
    "% for f= 2: length(x)\n",
    "% theta(f)=tan((y(f)-y(f-1))/(x(f)-x(f-1)));\n",
    "% end\n",
    "\n",
    "path=[x',y'];\n",
    "[t, x_des, y_des,dt] = pointToTrajectory(path,0,vel);\n",
    "for f= 2: length(x_des)\n",
    "theta(f)=tan((y_des(f)-y_des(f-1))/(x_des(f)-x_des(f-1)));\n",
    "end\n",
    "\n",
    "\n",
    "%%%%%%%%%%%%\n",
    "Q = .01*eye(4);\n",
    "R = 2^-2*eye(2); %i wanna follow trajectory \n",
    "Kvalue = LQR_k(A,B,Q,R);\n",
    "\n",
    "\n",
    "X_0 = [0;0;0];\n",
    "X_hat_0 = X_0/2;\n",
    "\n",
    "Ch = [1 0 0;\n",
    "    0 1 0];\n",
    "P_pl = eye(3);\n",
    "X(:,1)= X_0;\n",
    "Y(:,1) = Ch*X(:,1);\n",
    "t(1) = 0;\n",
    "X_hat(:,1)= X_hat_0;\n",
    "QQ = .01*eye(2);\n",
    "tt(1)=0;"
   ]
  },
  {
   "cell_type": "code",
   "execution_count": 21,
   "metadata": {},
   "outputs": [
    {
     "name": "stdout",
     "output_type": "stream",
     "text": [
      "\n"
     ]
    }
   ],
   "source": [
    "for i = 1:length(t)\n",
    "    u = [vel;theta(i)]; \n",
    "%the real thing \n",
    "X(:,i+1)= X(:,i) + dt*[u(1)*abs(cos(X(3,i)));\n",
    "        u(1)*sin(X(3,i));\n",
    "        u(2)];\n",
    "\n",
    "    tt(i+1) = tt(i)+dt;\n",
    "    Y(:,i+1) = Ch*X(:,i+1) + sqrt(R)*randn(size(Ch,1),1); \n",
    "    \n",
    "dFdx = [0 0 -vel*sin(X_hat(3,i)); 0 0 vel*cos(X_hat(3,i)); 0 0 0 ];\n",
    "    dFdx_d = eye(3) + dt*dFdx;\n",
    "    \n",
    "    F = [dt*cos(X_hat(3,i)) 0;\n",
    "    dt*sin(X_hat(3,i)) 0;\n",
    "    0 dt];\n",
    "    \n",
    "    P_mi = dFdx_d*P_pl*dFdx_d' + F*QQ*F';\n",
    "       \n",
    "    X_hat(:,i+1) = X_hat(:,i) + dt*[u(1)*cos(X_hat(3,i));\n",
    "            u(1)*sin(X_hat(3,i));\n",
    "          u(2);];\n",
    "    Y_hat(:,i+1) = Ch*X_hat(:,i+1);\n",
    "    % Update based on measurement\n",
    "    e_Y  = Y(:,i+1) - Y_hat(:,i+1);\n",
    "    S = Ch*P_mi*Ch'+R;\n",
    "    K = P_mi*Ch'*inv(S);\n",
    "    P_pl = (eye(3) - K*Ch)*P_mi;\n",
    "    X_hat(:,i+1)=X_hat(:,i+1) + K*e_Y;\n",
    "end\n",
    "X_hat(3,1) = X_hat(3,end);\n",
    "P_pl = P_mi;"
   ]
  },
  {
   "cell_type": "code",
   "execution_count": 22,
   "metadata": {},
   "outputs": [
    {
     "name": "stdout",
     "output_type": "stream",
     "text": [
      "\n"
     ]
    },
    {
     "data": {
      "image/png": "[encoded data removed]",
      "text/plain": [
       "<IPython.core.display.Image object>"
      ]
     },
     "metadata": {},
     "output_type": "display_data"
    }
   ],
   "source": [
    "figure;\n",
    "subplot(2,1,1)\n",
    "plot(tt,X(1,:),tt,X_hat(1,:),'--')\n",
    "legend('true','estimate')\n",
    "%axis([0 2.5 0 40])\n",
    "xlabel('time')\n",
    "ylabel('X')\n",
    "axis([-10 30 -2 120])\n",
    "subplot(2,1,2)\n",
    "plot(tt,X(2,:),tt,X_hat(2,:),'--')\n",
    "legend('true','estimate')\n",
    "xlabel('time')\n",
    "ylabel('Y')\n",
    "axis([-10 35 -1 35])\n"
   ]
  },
  {
   "cell_type": "code",
   "execution_count": 23,
   "metadata": {},
   "outputs": [
    {
     "name": "stdout",
     "output_type": "stream",
     "text": [
      "\n"
     ]
    },
    {
     "data": {
      "image/png": "[encoded data removed]",
      "text/plain": [
       "<IPython.core.display.Image object>"
      ]
     },
     "metadata": {},
     "output_type": "display_data"
    }
   ],
   "source": [
    "figure;\n",
    "plot(tt,X(3,:),tt,X_hat(3,:),'--') %X is the actual while X_hat is the measurement based on dynamics\n",
    "axis([-10 30 -1 4])\n",
    "xlabel('time')\n",
    "ylabel('Theta')\n",
    "%axis([0 2.5 0 2])\n"
   ]
  }
 ],
 "metadata": {
  "kernelspec": {
   "display_name": "Matlab",
   "language": "matlab",
   "name": "matlab"
  },
  "language_info": {
   "codemirror_mode": "octave",
   "file_extension": ".m",
   "help_links": [
    {
     "text": "MetaKernel Magics",
     "url": "https://metakernel.readthedocs.io/en/latest/source/README.html"
    }
   ],
   "mimetype": "text/x-octave",
   "name": "matlab",
   "version": "0.16.11"
  }
 },
 "nbformat": 4,
 "nbformat_minor": 2
}

{
 "cells": [
  {
   "cell_type": "markdown",
   "metadata": {},
   "source": [
    "## Inverted Pendulum Control\n",
    "\n",
    "### Joseph Leung"
   ]
  },
  {
   "cell_type": "markdown",
   "metadata": {},
   "source": [
    "<p>Normally when a pendulum is dropped and let go, it will find itself eventually stopping vertically downward. The goal of this project is to balance a pendulum on a cart so that it stays vertically upright at 180 degrees. To balance the pendulum, the cart will move back and forth.<p>\n",
    "The model of the pendulum and the cart is: $$\\dot{x}= x_2 $$ \n",
    "$$\\ddot{x}=\\frac{1}{D}(-m^2L^2gC_yS_y + mL^2(mL\\dot{\\theta}^2S_y - d\\dot{x})) + \\frac{1}{D}mL^2u $$\n",
    "$${\\dot{\\theta}}= x_3 $$ \n",
    "$$\\ddot{\\theta}=\\frac{(mgLS_y(m+M) - mLC_y(mL\\dot{\\theta}^2S_y - d\\dot{x}))}{D} - \\frac{mLC_yu}{D} $$\n",
    "where:</p><br>\n",
    "$D= mL^2(M+m)sin^2(\\theta)$<p>\n",
    "$S_y= sin(\\theta)$<p>\n",
    "$C_y= cos(\\theta)$"
   ]
  },
  {
   "cell_type": "markdown",
   "metadata": {},
   "source": [
    "First we will start by initializing the properties of the cart, which are in SI units,  \n",
    "where m is the mass of the ball at the end of the cart,  \n",
    "M is the mass of the cart,  \n",
    "L is the length of the pole,  \n",
    "g is the gravitational constant,  \n",
    "d is the drag constant, and  \n",
    "s is -1 pr 1 whether the cart is going to be stabilized around $\\theta = 0 \\ or \\ \\pi$"
   ]
  },
  {
   "cell_type": "code",
   "execution_count": 86,
   "metadata": {},
   "outputs": [
    {
     "name": "stdout",
     "output_type": "stream",
     "text": [
      "\n"
     ]
    }
   ],
   "source": [
    "clc\n",
    "close all\n",
    "clear all\n",
    "\n",
    "m = 1;\n",
    "M = 5;\n",
    "L = 2;\n",
    "g = -10;\n",
    "d = 1;\n",
    "s = 1; %pendulum up"
   ]
  },
  {
   "cell_type": "markdown",
   "metadata": {},
   "source": [
    "Here we have our state space form of $$\\dot{x}=Ax+ Bu $$\n",
    "$$ y= Cx $$\n",
    "where it has been linearized around \n",
    "$$X_d =\\begin{bmatrix}\n",
    "0 \\\\  0 \\\\ \\pi \\\\ 0 \\\\\n",
    "\\end{bmatrix}$$  <p>\n",
    "\n",
    "We are going to be using the seperation principle to have our observer and controller working at the same time so we need to check the controllability and observability of the system. This is Linear Quadratic Gaussian control, which is a control scheme that uses Linear Quadratic Regulator (LQR) for control and kalman filter for estimation."
   ]
  },
  {
   "cell_type": "code",
   "execution_count": 87,
   "metadata": {},
   "outputs": [
    {
     "name": "stdout",
     "output_type": "stream",
     "text": [
      "\n"
     ]
    }
   ],
   "source": [
    "A = [0 1 0 0; \n",
    "    0 -d/M -m*g/M 0;\n",
    "    0 0 0 1;\n",
    "    0 -s*d/(M*L) -s*(m+M)*g/(M*L) 0];\n",
    "\n",
    "B = [0; 1/M; 0; s*1/(M*L)];\n",
    "\n",
    "C=[1 0 0 0; \n",
    "    0 0 1 0];\n",
    "\n",
    "rank(ctrb(A,B));\n",
    "rank(obsv(A,C));\n",
    "\n",
    "t_f = 15;\n",
    "dt = 0.001;\n",
    "t = 0:dt:t_f; \n",
    "\n",
    "x(:,1)=[-3; 0; pi + .1; .5]; %initial conditions\n",
    "Y(:,1)=C*x;"
   ]
  },
  {
   "cell_type": "markdown",
   "metadata": {},
   "source": [
    "Here we design a LQR controller for the pendulum picking values of Q and R. When picking values of Q and R if the states matter more we want the   \n",
    "norm(Q) >> norm(R). Here I do want the states to matter more since balancing the pendulum is the goal of the project, which is why for the third value in the Q matrix one value is priortized over the others. I do not want too low a value for R just cause I want the animation to run longer to show the motion of the cart."
   ]
  },
  {
   "cell_type": "code",
   "execution_count": 88,
   "metadata": {},
   "outputs": [
    {
     "name": "stdout",
     "output_type": "stream",
     "text": [
      "\n"
     ]
    }
   ],
   "source": [
    "%Controller\n",
    "N=length(t);\n",
    "Q =  diag([.5 .5  10 .5]);\n",
    "R = .2; \n",
    "P = care(A,B,Q,R);\n",
    "K = inv(R)*B'*P; "
   ]
  },
  {
   "cell_type": "markdown",
   "metadata": {},
   "source": [
    "Here we design an observer with the continuous time Kalman filter using MATLAB’s care command. Here we also initialize our estimates. Here Q_k and R_k work similarly to Q and R for the LQR controller. The Q_k is the disturbance in states and R_k is the measurement noise. Here we will trust our states more since the mesurement noise is so high. "
   ]
  },
  {
   "cell_type": "code",
   "execution_count": 89,
   "metadata": {},
   "outputs": [
    {
     "name": "stdout",
     "output_type": "stream",
     "text": [
      "\n"
     ]
    }
   ],
   "source": [
    "%Observer\n",
    "Q_k = diag([.1 .1 .1 .1]); % The disturbance in states\n",
    "R_k = diag([.5 .5 ]); %measurement noise\n",
    "P_k = care(A',C',Q_k,R_k);\n",
    "K_k = P_k*C'*inv(R_k);\n",
    "LL = K_k;\n",
    "\n",
    "X_hat(:,1) = [-2.5; 0; pi+.15 ; .5];\n",
    "y_hat(:,1) = C*X_hat;\n"
   ]
  },
  {
   "cell_type": "markdown",
   "metadata": {},
   "source": [
    "Here we iterate over time and discretize our system to get our system at the desired states of:\n",
    "\n",
    "$$x_f =\\begin{bmatrix}\n",
    "1 \\\\  0 \\\\ \\pi \\\\ 0 \\\\\n",
    "\\end{bmatrix}$$  <p>"
   ]
  },
  {
   "cell_type": "code",
   "execution_count": 90,
   "metadata": {},
   "outputs": [
    {
     "name": "stdout",
     "output_type": "stream",
     "text": [
      "\n"
     ]
    }
   ],
   "source": [
    "for i= 2:N\n",
    "    u = -K*(X_hat(:,i-1)-[1; 0; pi; 0]);\n",
    "    \n",
    "Sy = sin(x(3,i-1));\n",
    "Cy = cos(x(3,i-1));\n",
    "D = m*L*L*(M+m*(1-Cy^2));\n",
    "\n",
    "dy(1,1) = x(2,i-1) ;\n",
    "dy(2,1) = (1/D)*(-m^2*L^2*g*Cy*Sy + m*L^2*(m*L*x(4,i-1)^2*Sy - d*x(2,i-1))) + m*L*L*(1/D)*u ;\n",
    "dy(3,1) = x(4,i-1);\n",
    "dy(4,1) = (1/D)*((m+M)*m*g*L*Sy - m*L*Cy*(m*L*x(4,i-1)^2*Sy - d*x(2,i-1))) - m*L*Cy*(1/D)*u ;\n",
    "\n",
    "dy=dy+[.1;.1;.1;.1]*randn;\n",
    "\n",
    "x(:,i)=x(:,i-1)+dy*dt;\n",
    "Y(:,i)=C*x(:,i); %+ sqrt(R_k)*randn(2,1);\n",
    "\n",
    "Sy_h = sin(X_hat(3,i-1));\n",
    "Cy_h = cos(X_hat(3,i-1));\n",
    "D_h = m*L*L*(M+m*(1-Cy_h^2));\n",
    "\n",
    "dy_hat(1,1) = X_hat(2,i-1);\n",
    "dy_hat(2,1) = (1/D_h)*(-m^2*L^2*g*Cy_h*Sy_h + m*L^2*(m*L*X_hat(4,i-1)^2*Sy_h - d*X_hat(2,i-1))) + m*L*L*(1/D_h)*u;\n",
    "dy_hat(3,1) = X_hat(4,i-1);\n",
    "dy_hat(4,1) = (1/D_h)*((m+M)*m*g*L*Sy_h - m*L*Cy_h*(m*L*X_hat(4,i-1)^2*Sy_h - d*X_hat(2,i-1))) - m*L*Cy_h*(1/D_h)*u +.01*randn;\n",
    "\n",
    "X_hat(:,i)=X_hat(:,i-1)+dt*(dy_hat + LL*(Y(:,i-1)-y_hat(:,i-1)));\n",
    "y_hat(:,i)=C*X_hat(:,i);\n",
    "\n",
    "end\n"
   ]
  },
  {
   "cell_type": "markdown",
   "metadata": {},
   "source": [
    "Here the plots shows that the two main states: position of the cart and theta end up at the desired positions. "
   ]
  },
  {
   "cell_type": "code",
   "execution_count": 91,
   "metadata": {},
   "outputs": [
    {
     "name": "stdout",
     "output_type": "stream",
     "text": [
      "\n"
     ]
    },
    {
     "data": {
      "image/png": "[encoded data removed]",
      "text/plain": [
       "<IPython.core.display.Image object>"
      ]
     },
     "metadata": {},
     "output_type": "display_data"
    }
   ],
   "source": [
    "figure;\n",
    "subplot(2,1,1)\n",
    "plot(t,x(3,:),t,X_hat(3,:),t,pi*ones(size(t)));\n",
    "legend('Radians X','Radians X_hat','x_{des}')\n",
    "ylabel('Radians')\n",
    "xlabel('time')\n",
    "subplot(2,1,2)\n",
    "plot(t,x(1,:),t,X_hat(1,:),t,ones(size(t)));\n",
    "legend('Pos X','Pos X_hat','x_{des}')\n",
    "ylabel('Position')\n",
    "xlabel('time')\n"
   ]
  }
 ],
 "metadata": {
  "kernelspec": {
   "display_name": "Matlab",
   "language": "matlab",
   "name": "matlab"
  },
  "language_info": {
   "codemirror_mode": "octave",
   "file_extension": ".m",
   "help_links": [
    {
     "text": "MetaKernel Magics",
     "url": "https://github.com/calysto/metakernel/blob/master/metakernel/magics/README.md"
    }
   ],
   "mimetype": "text/x-octave",
   "name": "matlab",
   "version": "0.15.2"
  }
 },
 "nbformat": 4,
 "nbformat_minor": 2
}
